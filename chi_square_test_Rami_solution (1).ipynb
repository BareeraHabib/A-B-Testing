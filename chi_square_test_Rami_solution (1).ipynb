{
  "cells": [
    {
      "cell_type": "markdown",
      "metadata": {
        "id": "aVcmIETZQHPt"
      },
      "source": [
        "## A / B Testing: Chi-2 with Montana Library case study\n",
        "\n",
        "In this notebook we perform a Chi square test with data from the Library of Montana University case study\n",
        "Scipy approach."
      ]
    },
    {
      "cell_type": "markdown",
      "metadata": {
        "id": "BD5u2LKrQHPx"
      },
      "source": [
        "### Data reading\n",
        "\n",
        "The important pieces of information (clicks on each element of interest & visits on each page) are scattered around. Let's collect them:"
      ]
    },
    {
      "cell_type": "code",
      "execution_count": 3,
      "metadata": {
        "id": "UkRmZnIbQHPy"
      },
      "outputs": [],
      "source": [
        "import pandas as pd\n",
        "import numpy as np\n",
        "pd.set_option(\"max_colwidth\", 1000)\n",
        "pd.set_option(\"max_rows\", 1000)\n",
        "\n",
        "# Element list Homepage Version 1 - Interact, 5-29-2013.csv\n",
        "url = 'https://drive.google.com/file/d/1Tj6Z4OtJqLBOW0z2fvuGS5EhZo8xTVM6/view?usp=sharing' \n",
        "path = 'https://drive.google.com/uc?export=download&id='+url.split('/')[-2]\n",
        "v1 = pd.read_csv(path)\n",
        "\n",
        "# Element list Homepage Version 2 - Connect, 5-29-2013.csv\n",
        "url = 'https://drive.google.com/file/d/1qHBdOjUWvJpN-LTg1z2jpeA3mDXQjdch/view?usp=sharing' \n",
        "path = 'https://drive.google.com/uc?export=download&id='+url.split('/')[-2]\n",
        "v2 = pd.read_csv(path)\n",
        "\n",
        "# Element list Homepage Version 3 - Learn, 5-29-2013.csv\n",
        "url = 'https://drive.google.com/file/d/1g8prRmy3hpVtL6zvkdCwXcgIV0CS48zr/view?usp=sharing' \n",
        "path = 'https://drive.google.com/uc?export=download&id='+url.split('/')[-2]\n",
        "v3 = pd.read_csv(path)\n",
        "\n",
        "# Element list Homepage Version 4 - Help, 5-29-2013.csv\n",
        "url = 'https://drive.google.com/file/d/1I9bjXkxtiILDogeQmsWCCDlQtRZ8OSrs/view?usp=sharing' \n",
        "path = 'https://drive.google.com/uc?export=download&id='+url.split('/')[-2]\n",
        "v4 = pd.read_csv(path)\n",
        "\n",
        "# Element list Homepage Version 5 - Services, 5-29-2013.csv\n",
        "url = 'https://drive.google.com/file/d/1noDp_jpdAL_LGxU3SPDxqP94pUCqisqW/view?usp=sharing' \n",
        "path = 'https://drive.google.com/uc?export=download&id='+url.split('/')[-2]\n",
        "v5 = pd.read_csv(path)"
      ]
    },
    {
      "cell_type": "code",
      "execution_count": 4,
      "metadata": {
        "id": "01vrGGGdQHP0"
      },
      "outputs": [],
      "source": [
        "# clicks on each element\n",
        "v1_clicks = int(v1.loc[v1[\"Name\"]==\"INTERACT\"][\"No. clicks\"])\n",
        "v2_clicks = int(v2.loc[v2[\"Name\"]==\"CONNECT\"][\"No. clicks\"])\n",
        "v3_clicks = int(v3.loc[v3[\"Name\"]==\"LEARN\"][\"No. clicks\"])\n",
        "v4_clicks = int(v4.loc[v4[\"Name\"]==\"HELP\"][\"No. clicks\"])\n",
        "v5_clicks = int(v5.loc[v5[\"Name\"]==\"SERVICES\"][\"No. clicks\"])"
      ]
    },
    {
      "cell_type": "code",
      "execution_count": 5,
      "metadata": {
        "colab": {
          "base_uri": "https://localhost:8080/"
        },
        "id": "QFopuyf4QHP0",
        "outputId": "deab62f5-3197-4da0-e21b-9b130cff1907"
      },
      "outputs": [
        {
          "output_type": "stream",
          "name": "stdout",
          "text": [
            "42 53 21 38 45\n"
          ]
        }
      ],
      "source": [
        "print(v1_clicks, v2_clicks, v3_clicks, v4_clicks, v5_clicks)"
      ]
    },
    {
      "cell_type": "code",
      "execution_count": 6,
      "metadata": {
        "id": "wyPQ1FlQQHP1"
      },
      "outputs": [],
      "source": [
        "# visits on each page (they are in the last column of the second row, we read them manually)\n",
        "v1_visits = 10283\n",
        "v2_visits = 2742\n",
        "v3_visits = 2747\n",
        "v4_visits = 3180\n",
        "v5_visits = 2064"
      ]
    },
    {
      "cell_type": "markdown",
      "metadata": {
        "id": "i8UNGXvhQHP2"
      },
      "source": [
        "#### Click Through rate\n",
        "\n",
        "Defined as clicks / visits"
      ]
    },
    {
      "cell_type": "code",
      "execution_count": 7,
      "metadata": {
        "id": "mQLyrfiQQHP3"
      },
      "outputs": [],
      "source": [
        "# click-through rates\n",
        "interact_rate = float(v1_clicks / v1_visits)\n",
        "connect_rate = float(v2_clicks / v2_visits)\n",
        "learn_rate = float(v3_clicks / v3_visits)\n",
        "help_rate = float(v4_clicks / v4_visits)\n",
        "services_rate = float(v5_clicks / v5_visits)"
      ]
    },
    {
      "cell_type": "code",
      "execution_count": 8,
      "metadata": {
        "colab": {
          "base_uri": "https://localhost:8080/",
          "height": 206
        },
        "id": "lEyizFPxQHP3",
        "outputId": "95caca95-3914-4911-ecee-775e04c01816"
      },
      "outputs": [
        {
          "output_type": "execute_result",
          "data": {
            "text/plain": [
              "        CTR     names\n",
              "4  0.021802  Services\n",
              "1  0.019329   Connect\n",
              "3  0.011950      Help\n",
              "2  0.007645     Learn\n",
              "0  0.004084  Interact"
            ],
            "text/html": [
              "\n",
              "  <div id=\"df-915cc959-7b02-4532-8f35-0fc56b92efa2\">\n",
              "    <div class=\"colab-df-container\">\n",
              "      <div>\n",
              "<style scoped>\n",
              "    .dataframe tbody tr th:only-of-type {\n",
              "        vertical-align: middle;\n",
              "    }\n",
              "\n",
              "    .dataframe tbody tr th {\n",
              "        vertical-align: top;\n",
              "    }\n",
              "\n",
              "    .dataframe thead th {\n",
              "        text-align: right;\n",
              "    }\n",
              "</style>\n",
              "<table border=\"1\" class=\"dataframe\">\n",
              "  <thead>\n",
              "    <tr style=\"text-align: right;\">\n",
              "      <th></th>\n",
              "      <th>CTR</th>\n",
              "      <th>names</th>\n",
              "    </tr>\n",
              "  </thead>\n",
              "  <tbody>\n",
              "    <tr>\n",
              "      <th>4</th>\n",
              "      <td>0.021802</td>\n",
              "      <td>Services</td>\n",
              "    </tr>\n",
              "    <tr>\n",
              "      <th>1</th>\n",
              "      <td>0.019329</td>\n",
              "      <td>Connect</td>\n",
              "    </tr>\n",
              "    <tr>\n",
              "      <th>3</th>\n",
              "      <td>0.011950</td>\n",
              "      <td>Help</td>\n",
              "    </tr>\n",
              "    <tr>\n",
              "      <th>2</th>\n",
              "      <td>0.007645</td>\n",
              "      <td>Learn</td>\n",
              "    </tr>\n",
              "    <tr>\n",
              "      <th>0</th>\n",
              "      <td>0.004084</td>\n",
              "      <td>Interact</td>\n",
              "    </tr>\n",
              "  </tbody>\n",
              "</table>\n",
              "</div>\n",
              "      <button class=\"colab-df-convert\" onclick=\"convertToInteractive('df-915cc959-7b02-4532-8f35-0fc56b92efa2')\"\n",
              "              title=\"Convert this dataframe to an interactive table.\"\n",
              "              style=\"display:none;\">\n",
              "        \n",
              "  <svg xmlns=\"http://www.w3.org/2000/svg\" height=\"24px\"viewBox=\"0 0 24 24\"\n",
              "       width=\"24px\">\n",
              "    <path d=\"M0 0h24v24H0V0z\" fill=\"none\"/>\n",
              "    <path d=\"M18.56 5.44l.94 2.06.94-2.06 2.06-.94-2.06-.94-.94-2.06-.94 2.06-2.06.94zm-11 1L8.5 8.5l.94-2.06 2.06-.94-2.06-.94L8.5 2.5l-.94 2.06-2.06.94zm10 10l.94 2.06.94-2.06 2.06-.94-2.06-.94-.94-2.06-.94 2.06-2.06.94z\"/><path d=\"M17.41 7.96l-1.37-1.37c-.4-.4-.92-.59-1.43-.59-.52 0-1.04.2-1.43.59L10.3 9.45l-7.72 7.72c-.78.78-.78 2.05 0 2.83L4 21.41c.39.39.9.59 1.41.59.51 0 1.02-.2 1.41-.59l7.78-7.78 2.81-2.81c.8-.78.8-2.07 0-2.86zM5.41 20L4 18.59l7.72-7.72 1.47 1.35L5.41 20z\"/>\n",
              "  </svg>\n",
              "      </button>\n",
              "      \n",
              "  <style>\n",
              "    .colab-df-container {\n",
              "      display:flex;\n",
              "      flex-wrap:wrap;\n",
              "      gap: 12px;\n",
              "    }\n",
              "\n",
              "    .colab-df-convert {\n",
              "      background-color: #E8F0FE;\n",
              "      border: none;\n",
              "      border-radius: 50%;\n",
              "      cursor: pointer;\n",
              "      display: none;\n",
              "      fill: #1967D2;\n",
              "      height: 32px;\n",
              "      padding: 0 0 0 0;\n",
              "      width: 32px;\n",
              "    }\n",
              "\n",
              "    .colab-df-convert:hover {\n",
              "      background-color: #E2EBFA;\n",
              "      box-shadow: 0px 1px 2px rgba(60, 64, 67, 0.3), 0px 1px 3px 1px rgba(60, 64, 67, 0.15);\n",
              "      fill: #174EA6;\n",
              "    }\n",
              "\n",
              "    [theme=dark] .colab-df-convert {\n",
              "      background-color: #3B4455;\n",
              "      fill: #D2E3FC;\n",
              "    }\n",
              "\n",
              "    [theme=dark] .colab-df-convert:hover {\n",
              "      background-color: #434B5C;\n",
              "      box-shadow: 0px 1px 3px 1px rgba(0, 0, 0, 0.15);\n",
              "      filter: drop-shadow(0px 1px 2px rgba(0, 0, 0, 0.3));\n",
              "      fill: #FFFFFF;\n",
              "    }\n",
              "  </style>\n",
              "\n",
              "      <script>\n",
              "        const buttonEl =\n",
              "          document.querySelector('#df-915cc959-7b02-4532-8f35-0fc56b92efa2 button.colab-df-convert');\n",
              "        buttonEl.style.display =\n",
              "          google.colab.kernel.accessAllowed ? 'block' : 'none';\n",
              "\n",
              "        async function convertToInteractive(key) {\n",
              "          const element = document.querySelector('#df-915cc959-7b02-4532-8f35-0fc56b92efa2');\n",
              "          const dataTable =\n",
              "            await google.colab.kernel.invokeFunction('convertToInteractive',\n",
              "                                                     [key], {});\n",
              "          if (!dataTable) return;\n",
              "\n",
              "          const docLinkHtml = 'Like what you see? Visit the ' +\n",
              "            '<a target=\"_blank\" href=https://colab.research.google.com/notebooks/data_table.ipynb>data table notebook</a>'\n",
              "            + ' to learn more about interactive tables.';\n",
              "          element.innerHTML = '';\n",
              "          dataTable['output_type'] = 'display_data';\n",
              "          await google.colab.output.renderOutput(dataTable, element);\n",
              "          const docLink = document.createElement('div');\n",
              "          docLink.innerHTML = docLinkHtml;\n",
              "          element.appendChild(docLink);\n",
              "        }\n",
              "      </script>\n",
              "    </div>\n",
              "  </div>\n",
              "  "
            ]
          },
          "metadata": {},
          "execution_count": 8
        }
      ],
      "source": [
        "# CTR from worst to best\n",
        "rates = pd.Series([interact_rate, connect_rate, learn_rate, help_rate, services_rate])\n",
        "names = pd.Series([\"Interact\", \"Connect\", \"Learn\", \"Help\", \"Services\"])\n",
        "\n",
        "ctr_df = pd.DataFrame({\"CTR\":rates, \"names\":names}).sort_values(\"CTR\")\n",
        "ctr_df.sort_values(\"CTR\", ascending=False)"
      ]
    },
    {
      "cell_type": "markdown",
      "metadata": {
        "id": "HoFpg1KiQHP4"
      },
      "source": [
        "#### Contingency table\n",
        "\n",
        "For observed values. We note clicks and no-clicks (defined as visits - clicks)"
      ]
    },
    {
      "cell_type": "code",
      "execution_count": 9,
      "metadata": {
        "id": "L2fqknAvQHP4"
      },
      "outputs": [],
      "source": [
        "# no-clicks\n",
        "v1_noclick = v1_visits - v1_clicks\n",
        "v2_noclick = v2_visits - v2_clicks\n",
        "v3_noclick = v3_visits - v3_clicks\n",
        "v4_noclick = v4_visits - v4_clicks\n",
        "v5_noclick = v5_visits - v5_clicks"
      ]
    },
    {
      "cell_type": "code",
      "execution_count": 10,
      "metadata": {
        "colab": {
          "base_uri": "https://localhost:8080/",
          "height": 112
        },
        "id": "KBqGulfZQHP4",
        "outputId": "19223588-d035-4291-d822-f3e7b6ca506f"
      },
      "outputs": [
        {
          "output_type": "execute_result",
          "data": {
            "text/plain": [
              "          Interact  Connect  Learn  Help  Services\n",
              "Click           42       53     21    38        45\n",
              "No-click     10241     2689   2726  3142      2019"
            ],
            "text/html": [
              "\n",
              "  <div id=\"df-d26884b8-14ef-4404-9846-7cdcd1889e3d\">\n",
              "    <div class=\"colab-df-container\">\n",
              "      <div>\n",
              "<style scoped>\n",
              "    .dataframe tbody tr th:only-of-type {\n",
              "        vertical-align: middle;\n",
              "    }\n",
              "\n",
              "    .dataframe tbody tr th {\n",
              "        vertical-align: top;\n",
              "    }\n",
              "\n",
              "    .dataframe thead th {\n",
              "        text-align: right;\n",
              "    }\n",
              "</style>\n",
              "<table border=\"1\" class=\"dataframe\">\n",
              "  <thead>\n",
              "    <tr style=\"text-align: right;\">\n",
              "      <th></th>\n",
              "      <th>Interact</th>\n",
              "      <th>Connect</th>\n",
              "      <th>Learn</th>\n",
              "      <th>Help</th>\n",
              "      <th>Services</th>\n",
              "    </tr>\n",
              "  </thead>\n",
              "  <tbody>\n",
              "    <tr>\n",
              "      <th>Click</th>\n",
              "      <td>42</td>\n",
              "      <td>53</td>\n",
              "      <td>21</td>\n",
              "      <td>38</td>\n",
              "      <td>45</td>\n",
              "    </tr>\n",
              "    <tr>\n",
              "      <th>No-click</th>\n",
              "      <td>10241</td>\n",
              "      <td>2689</td>\n",
              "      <td>2726</td>\n",
              "      <td>3142</td>\n",
              "      <td>2019</td>\n",
              "    </tr>\n",
              "  </tbody>\n",
              "</table>\n",
              "</div>\n",
              "      <button class=\"colab-df-convert\" onclick=\"convertToInteractive('df-d26884b8-14ef-4404-9846-7cdcd1889e3d')\"\n",
              "              title=\"Convert this dataframe to an interactive table.\"\n",
              "              style=\"display:none;\">\n",
              "        \n",
              "  <svg xmlns=\"http://www.w3.org/2000/svg\" height=\"24px\"viewBox=\"0 0 24 24\"\n",
              "       width=\"24px\">\n",
              "    <path d=\"M0 0h24v24H0V0z\" fill=\"none\"/>\n",
              "    <path d=\"M18.56 5.44l.94 2.06.94-2.06 2.06-.94-2.06-.94-.94-2.06-.94 2.06-2.06.94zm-11 1L8.5 8.5l.94-2.06 2.06-.94-2.06-.94L8.5 2.5l-.94 2.06-2.06.94zm10 10l.94 2.06.94-2.06 2.06-.94-2.06-.94-.94-2.06-.94 2.06-2.06.94z\"/><path d=\"M17.41 7.96l-1.37-1.37c-.4-.4-.92-.59-1.43-.59-.52 0-1.04.2-1.43.59L10.3 9.45l-7.72 7.72c-.78.78-.78 2.05 0 2.83L4 21.41c.39.39.9.59 1.41.59.51 0 1.02-.2 1.41-.59l7.78-7.78 2.81-2.81c.8-.78.8-2.07 0-2.86zM5.41 20L4 18.59l7.72-7.72 1.47 1.35L5.41 20z\"/>\n",
              "  </svg>\n",
              "      </button>\n",
              "      \n",
              "  <style>\n",
              "    .colab-df-container {\n",
              "      display:flex;\n",
              "      flex-wrap:wrap;\n",
              "      gap: 12px;\n",
              "    }\n",
              "\n",
              "    .colab-df-convert {\n",
              "      background-color: #E8F0FE;\n",
              "      border: none;\n",
              "      border-radius: 50%;\n",
              "      cursor: pointer;\n",
              "      display: none;\n",
              "      fill: #1967D2;\n",
              "      height: 32px;\n",
              "      padding: 0 0 0 0;\n",
              "      width: 32px;\n",
              "    }\n",
              "\n",
              "    .colab-df-convert:hover {\n",
              "      background-color: #E2EBFA;\n",
              "      box-shadow: 0px 1px 2px rgba(60, 64, 67, 0.3), 0px 1px 3px 1px rgba(60, 64, 67, 0.15);\n",
              "      fill: #174EA6;\n",
              "    }\n",
              "\n",
              "    [theme=dark] .colab-df-convert {\n",
              "      background-color: #3B4455;\n",
              "      fill: #D2E3FC;\n",
              "    }\n",
              "\n",
              "    [theme=dark] .colab-df-convert:hover {\n",
              "      background-color: #434B5C;\n",
              "      box-shadow: 0px 1px 3px 1px rgba(0, 0, 0, 0.15);\n",
              "      filter: drop-shadow(0px 1px 2px rgba(0, 0, 0, 0.3));\n",
              "      fill: #FFFFFF;\n",
              "    }\n",
              "  </style>\n",
              "\n",
              "      <script>\n",
              "        const buttonEl =\n",
              "          document.querySelector('#df-d26884b8-14ef-4404-9846-7cdcd1889e3d button.colab-df-convert');\n",
              "        buttonEl.style.display =\n",
              "          google.colab.kernel.accessAllowed ? 'block' : 'none';\n",
              "\n",
              "        async function convertToInteractive(key) {\n",
              "          const element = document.querySelector('#df-d26884b8-14ef-4404-9846-7cdcd1889e3d');\n",
              "          const dataTable =\n",
              "            await google.colab.kernel.invokeFunction('convertToInteractive',\n",
              "                                                     [key], {});\n",
              "          if (!dataTable) return;\n",
              "\n",
              "          const docLinkHtml = 'Like what you see? Visit the ' +\n",
              "            '<a target=\"_blank\" href=https://colab.research.google.com/notebooks/data_table.ipynb>data table notebook</a>'\n",
              "            + ' to learn more about interactive tables.';\n",
              "          element.innerHTML = '';\n",
              "          dataTable['output_type'] = 'display_data';\n",
              "          await google.colab.output.renderOutput(dataTable, element);\n",
              "          const docLink = document.createElement('div');\n",
              "          docLink.innerHTML = docLinkHtml;\n",
              "          element.appendChild(docLink);\n",
              "        }\n",
              "      </script>\n",
              "    </div>\n",
              "  </div>\n",
              "  "
            ]
          },
          "metadata": {},
          "execution_count": 10
        }
      ],
      "source": [
        "# contingency table as a pd.DataFrame creation\n",
        "clicks = pd.Series([v1_clicks, v2_clicks, v3_clicks, v4_clicks, v5_clicks])\n",
        "noclicks = pd.Series([v1_noclick, v2_noclick, v3_noclick, v4_noclick, v5_noclick])\n",
        "\n",
        "observed = pd.DataFrame(data = [clicks, noclicks])\n",
        "observed.columns = [\"Interact\", \"Connect\", \"Learn\", \"Help\", \"Services\"]\n",
        "observed.index = [\"Click\", \"No-click\"]\n",
        "\n",
        "observed"
      ]
    },
    {
      "cell_type": "markdown",
      "metadata": {
        "id": "8iXWEk2mQHP5"
      },
      "source": [
        "## Scipy approach"
      ]
    },
    {
      "cell_type": "markdown",
      "source": [
        "Null Hypothesis: **Interact\tConnect\tLearn\tHelp\tServices** have the same number of clicks and no-clicks values\n",
        "\n",
        "Alternative Hypthesis: **Interact\tConnect\tLearn\tHelp\tServices** do not have the same number of clicks and no-clicks\n",
        "\n",
        "Significance level: **95%** or 0.95\n",
        "\n",
        "Alpha: 1 - 0.95 = 0.05\n",
        "\n",
        "To reject the Null Hypothesis p-value needs to be less or equal to alpha (p-value  <= 0.05)"
      ],
      "metadata": {
        "id": "IizPeg648fyl"
      }
    },
    {
      "cell_type": "code",
      "execution_count": 13,
      "metadata": {
        "colab": {
          "base_uri": "https://localhost:8080/"
        },
        "id": "2b-wAkscQHP5",
        "outputId": "c0afa110-ec14-4bdb-94d1-437121c2ecaf"
      },
      "outputs": [
        {
          "output_type": "stream",
          "name": "stdout",
          "text": [
            "p value: 4.852334301093838e-20\n"
          ]
        }
      ],
      "source": [
        "from scipy import stats\n",
        "chi2, pvalue, df, expected = stats.chi2_contingency(observed)\n",
        "print(f\"p value: {pvalue} pvalue <= 0.05 ? {pvalue <= 0.05}\")"
      ]
    },
    {
      "cell_type": "markdown",
      "source": [
        "Null Hypothesis: **Connect\tLearn\tHelp\tServices** have the same number of clicks and no-clicks values\n",
        "\n",
        "Alternative Hypthesis: **Connect\tLearn\tHelp\tServices** do not have the same number of clicks and no-clicks\n",
        "\n",
        "Significance level: **95%** or 0.95\n",
        "\n",
        "Alpha: 1 - 0.95 = 0.05\n",
        "\n",
        "To reject the Null Hypothesis p-value needs to be less or equal to alpha (p-value  <= 0.05)"
      ],
      "metadata": {
        "id": "4idToTyeeJoH"
      }
    },
    {
      "cell_type": "code",
      "source": [
        "chi2, pvalue, df, expected = stats.chi2_contingency(observed[['Connect', 'Learn', 'Help', 'Services']])\n",
        "print(f\"p value: {pvalue} pvalue <= 0.05 ? {pvalue <= 0.05}\")"
      ],
      "metadata": {
        "id": "Ln9sZhTkN6ma",
        "outputId": "73ec9dab-db40-4f17-d839-b7fb5a597ed5",
        "colab": {
          "base_uri": "https://localhost:8080/"
        }
      },
      "execution_count": 19,
      "outputs": [
        {
          "output_type": "stream",
          "name": "stdout",
          "text": [
            "p value: 5.25509870228566e-05 pvalue <= 0.05 ? True\n"
          ]
        }
      ]
    },
    {
      "cell_type": "markdown",
      "source": [
        "Null Hypothesis: **Connect Help\tServices** have the same number of clicks and no-clicks values\n",
        "\n",
        "Alternative Hypthesis: **Connect Help\tServices** do not have the same number of clicks and no-clicks\n",
        "\n",
        "Significance level: **95%** or 0.95\n",
        "\n",
        "Alpha: 1 - 0.95 = 0.05\n",
        "\n",
        "To reject the Null Hypothesis p-value needs to be less or equal to alpha (p-value  <= 0.05)"
      ],
      "metadata": {
        "id": "t2K3k_W-erYu"
      }
    },
    {
      "cell_type": "code",
      "source": [
        "chi2, pvalue, df, expected = stats.chi2_contingency(observed[['Connect',  'Help', 'Services']])\n",
        "print(f\"p value: {pvalue} pvalue <= 0.05 ? {pvalue <= 0.05}\")"
      ],
      "metadata": {
        "id": "gXtsb-QJec4Z",
        "outputId": "54c25dec-fd73-4083-c5fe-544875067a7e",
        "colab": {
          "base_uri": "https://localhost:8080/"
        }
      },
      "execution_count": 30,
      "outputs": [
        {
          "output_type": "stream",
          "name": "stdout",
          "text": [
            "p value: 0.013726659948517513 pvalue <= 0.05 ? True\n"
          ]
        }
      ]
    },
    {
      "cell_type": "markdown",
      "source": [
        "Null Hypothesis: **Connect\tServices** have the same number of clicks and no-clicks values\n",
        "\n",
        "Alternative Hypthesis: **Connect Services** do not have the same number of clicks and no-clicks\n",
        "\n",
        "Significance level: **95%** or 0.95\n",
        "\n",
        "Alpha: 1 - 0.95 = 0.05\n",
        "\n",
        "To reject the Null Hypothesis p-value needs to be less or equal to alpha (p-value  <= 0.05)"
      ],
      "metadata": {
        "id": "9YhsHFzreyAS"
      }
    },
    {
      "cell_type": "code",
      "source": [
        "chi2, pvalue, df, expected = stats.chi2_contingency(observed[['Connect', 'Services']])\n",
        "print(f\"p value: {pvalue} pvalue <= 0.05 ? {pvalue <= 0.05}\")"
      ],
      "metadata": {
        "id": "wikANixrdo8k",
        "outputId": "cebe58ca-16b9-4ef4-b515-5a9ea3a4061a",
        "colab": {
          "base_uri": "https://localhost:8080/"
        }
      },
      "execution_count": 31,
      "outputs": [
        {
          "output_type": "stream",
          "name": "stdout",
          "text": [
            "p value: 0.6188771123975272 pvalue <= 0.05 ? False\n"
          ]
        }
      ]
    },
    {
      "cell_type": "code",
      "source": [
        "def calculate_chi2_values(observed, cols):\n",
        "  chi2, pvalue, df, expected = stats.chi2_contingency(observed[cols])\n",
        "  print(f\"p value: {pvalue} pvalue <= 0.05 ? {pvalue <= 0.05}\")\n"
      ],
      "metadata": {
        "id": "3wGV2uJj9RkZ"
      },
      "execution_count": 32,
      "outputs": []
    },
    {
      "cell_type": "code",
      "source": [
        "calculate_chi2_values(observed, ['Interact', 'Connect', 'Learn', 'Help', 'Services'])"
      ],
      "metadata": {
        "id": "oJW14F7G9oCQ",
        "outputId": "2caa1b1d-a447-4450-b532-f8892e4a57fb",
        "colab": {
          "base_uri": "https://localhost:8080/"
        }
      },
      "execution_count": 33,
      "outputs": [
        {
          "output_type": "stream",
          "name": "stdout",
          "text": [
            "p value: 4.852334301093838e-20 pvalue <= 0.05 ? True\n"
          ]
        }
      ]
    },
    {
      "cell_type": "code",
      "source": [
        ""
      ],
      "metadata": {
        "id": "uXnnkomCfVz8"
      },
      "execution_count": null,
      "outputs": []
    }
  ],
  "metadata": {
    "kernelspec": {
      "display_name": "Python 3",
      "language": "python",
      "name": "python3"
    },
    "language_info": {
      "codemirror_mode": {
        "name": "ipython",
        "version": 3
      },
      "file_extension": ".py",
      "mimetype": "text/x-python",
      "name": "python",
      "nbconvert_exporter": "python",
      "pygments_lexer": "ipython3",
      "version": "3.8.5"
    },
    "colab": {
      "name": "chi-square-test-Rami-solution.ipynb",
      "provenance": []
    }
  },
  "nbformat": 4,
  "nbformat_minor": 0
}