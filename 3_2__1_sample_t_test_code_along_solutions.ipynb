{
  "cells": [
    {
      "cell_type": "code",
      "execution_count": 9,
      "metadata": {
        "id": "L5pvCglNV4WI"
      },
      "outputs": [],
      "source": [
        "from scipy import stats\n",
        "import numpy as np\n",
        "import pandas as pd"
      ]
    },
    {
      "cell_type": "markdown",
      "metadata": {
        "id": "81e8tJQPV4WK"
      },
      "source": [
        "## Testing means (with 1 sample)\n",
        "\n",
        "Are squirrels starving? :("
      ]
    },
    {
      "cell_type": "code",
      "execution_count": 10,
      "metadata": {
        "id": "3IA7eMRLV4WM"
      },
      "outputs": [],
      "source": [
        "# here I generate fake data to have slighly small squirrels\n",
        "# you can pretend you don't see that ;)\n",
        "np.random.seed(42)\n",
        "pop = pd.Series(np.random.exponential(1, 10000))\n",
        "samp_size = 80\n",
        "squirrels = pop.sample(samp_size)\n",
        "squirrels = abs(squirrels - 0.1)"
      ]
    },
    {
      "cell_type": "code",
      "execution_count": 11,
      "metadata": {
        "id": "AjasP9RZV4WN",
        "outputId": "731665c2-5b19-443b-f753-6c0504b36b05",
        "colab": {
          "base_uri": "https://localhost:8080/"
        }
      },
      "outputs": [
        {
          "output_type": "execute_result",
          "data": {
            "text/plain": [
              "0.8919614547194297"
            ]
          },
          "metadata": {},
          "execution_count": 11
        }
      ],
      "source": [
        "# Zoological registers say that squirrels in that area weight on average 1kg\n",
        "# The mean of our sample, however, is:\n",
        "squirrels_mean = squirrels.mean()\n",
        "squirrels_mean"
      ]
    },
    {
      "cell_type": "code",
      "source": [
        "squirrels.std()"
      ],
      "metadata": {
        "colab": {
          "base_uri": "https://localhost:8080/"
        },
        "id": "f8pfGcdxqU8S",
        "outputId": "8d406cd1-a4ab-439f-d394-063d4eea3d19"
      },
      "execution_count": 13,
      "outputs": [
        {
          "output_type": "execute_result",
          "data": {
            "text/plain": [
              "0.9373970676088735"
            ]
          },
          "metadata": {},
          "execution_count": 13
        }
      ]
    },
    {
      "cell_type": "code",
      "source": [
        "squirrels.hist(bins=30, figsize=(10,10))"
      ],
      "metadata": {
        "colab": {
          "base_uri": "https://localhost:8080/",
          "height": 610
        },
        "id": "3PAZv0WmqoQc",
        "outputId": "27abec02-d470-4f86-8fe3-398331ef9f46"
      },
      "execution_count": 14,
      "outputs": [
        {
          "output_type": "execute_result",
          "data": {
            "text/plain": [
              "<matplotlib.axes._subplots.AxesSubplot at 0x7f73d31bbb90>"
            ]
          },
          "metadata": {},
          "execution_count": 14
        },
        {
          "output_type": "display_data",
          "data": {
            "text/plain": [
              "<Figure size 720x720 with 1 Axes>"
            ],
            "image/png": "[encoded data removed]"
          },
          "metadata": {
            "needs_background": "light"
          }
        }
      ]
    },
    {
      "cell_type": "code",
      "execution_count": 15,
      "metadata": {
        "id": "WgR9bdSaV4WO",
        "outputId": "7123f8dc-45dd-4808-b43d-56a40a4ff72e",
        "colab": {
          "base_uri": "https://localhost:8080/"
        }
      },
      "outputs": [
        {
          "output_type": "execute_result",
          "data": {
            "text/plain": [
              "0.10414709228911492"
            ]
          },
          "metadata": {},
          "execution_count": 15
        }
      ],
      "source": [
        "# Is the mean of our sample smaller than 1kg due to chance (H0), or because the population\n",
        "# of squirrels from where the sample comes has, in fact, a different mean than 1kg (H1)?\n",
        "\n",
        "# The Standard Error of the Mean will tell us how far should we expect the mean of our sample to be \n",
        "# from the true mean of the population. Let's compute it:\n",
        "\n",
        "np.std(squirrels)/np.sqrt(samp_size)\n",
        "\n",
        "# Read more about the Standard Error of the Mean in page 171 of OpenIntro Statistics.\n"
      ]
    },
    {
      "cell_type": "code",
      "execution_count": 16,
      "metadata": {
        "id": "H3DtnCq2V4WO",
        "outputId": "d859d925-27db-4fa6-bd4f-819cd13c9d30",
        "colab": {
          "base_uri": "https://localhost:8080/"
        }
      },
      "outputs": [
        {
          "output_type": "execute_result",
          "data": {
            "text/plain": [
              "0.10414709228911492"
            ]
          },
          "metadata": {},
          "execution_count": 16
        }
      ],
      "source": [
        "sem_squirrels = stats.sem(squirrels, ddof=0)\n",
        "sem_squirrels"
      ]
    },
    {
      "cell_type": "code",
      "execution_count": 17,
      "metadata": {
        "scrolled": true,
        "id": "pksntpO0V4WP",
        "outputId": "63e508ce-e91c-4c87-f5f1-23cf60b2650b",
        "colab": {
          "base_uri": "https://localhost:8080/"
        }
      },
      "outputs": [
        {
          "output_type": "execute_result",
          "data": {
            "text/plain": [
              "1.2063739894817909"
            ]
          },
          "metadata": {},
          "execution_count": 17
        }
      ],
      "source": [
        "squirrels_mean + 3 * stats.sem(squirrels, ddof=1)"
      ]
    },
    {
      "cell_type": "code",
      "execution_count": 18,
      "metadata": {
        "id": "WxDPzl9aV4WP",
        "outputId": "9c089ac8-33be-4d39-a229-b76464523050",
        "colab": {
          "base_uri": "https://localhost:8080/"
        }
      },
      "outputs": [
        {
          "output_type": "execute_result",
          "data": {
            "text/plain": [
              "0.5775489199570686"
            ]
          },
          "metadata": {},
          "execution_count": 18
        }
      ],
      "source": [
        "squirrels_mean - 3 * stats.sem(squirrels, ddof=1)"
      ]
    },
    {
      "cell_type": "code",
      "execution_count": 19,
      "metadata": {
        "id": "vMyFINn0V4WR"
      },
      "outputs": [],
      "source": [
        "# That still doesn't answer the question: Are squirrels starving?\n",
        "# We can rephrase this question in mathematical terms:\n",
        "# What's the probability that the mean of our sample (0.89) comes from a population with mean = 1?\n",
        "# Or, in other words: is there a statistically significant difference between the mean of our sample \n",
        "# and the reference of 1kg?\n",
        "\n",
        "# The Null Hypothesis (H0) will be: mean(population) = 1\n",
        "# The Alternative Hypothesis (H1 or HA) will be mean (population) != 1.\n",
        "\n",
        "# (If you're wondering why we don't test for just mean < 1: having overweight squirrels is totally possible,\n",
        "# and we had to decide which test to use (1-tailed or 2-tailed) before taking the sample.)\n",
        "\n",
        "# We test a difference between 1 sample and 1 single value with a 1-sample t-test.\n",
        "# We can do the t-test with a single python function: scipy.stats.ttest_1samp. \n",
        "# But first, let's unfold the underlying process.\n",
        "\n",
        "# The Central Limit Theorem tells us that no matter the true underlying distribution of the population,\n",
        "# if we take multiple samples of a fixed size and we plot the means of these samples, they will form a \n",
        "# normal distribution. This distribution is called the \"Sample distribution of the sample means\".\n",
        "\n",
        "# The \"Sample distribution of the sample mean\" has these 3 properties:\n",
        "    # 1) its mean is equal to the mean of the population (we're assuming it's 1)\n",
        "    # 2) its standard deviation is equal to the standard error of our estimate (we computed it above)\n",
        "    # 3) it resembles a normal distribution."
      ]
    },
    {
      "cell_type": "code",
      "execution_count": 20,
      "metadata": {
        "id": "elr-VGSYV4WS"
      },
      "outputs": [],
      "source": [
        "# Simulate the \"Sample distribution of the sample means\"\n",
        "# normal\n",
        "# mean = 1\n",
        "# std = sem_squirrels"
      ]
    },
    {
      "cell_type": "code",
      "execution_count": 21,
      "metadata": {
        "id": "Vap99WBzV4WS",
        "outputId": "7b68fd21-8efe-4d77-f32e-72a03c8152f1",
        "colab": {
          "base_uri": "https://localhost:8080/"
        }
      },
      "outputs": [
        {
          "output_type": "execute_result",
          "data": {
            "text/plain": [
              "0.10480417825412036"
            ]
          },
          "metadata": {},
          "execution_count": 21
        }
      ],
      "source": [
        "sem_squirrels = stats.sem(squirrels, ddof=1)\n",
        "sem_squirrels"
      ]
    },
    {
      "cell_type": "code",
      "execution_count": 22,
      "metadata": {
        "id": "Ijo1j89dV4WT"
      },
      "outputs": [],
      "source": [
        "sampl_dist_sampl_means = np.random.normal(loc=1, # mean\n",
        "                                          scale = sem_squirrels, #std\n",
        "                                          size = 1000000\n",
        "                                         )"
      ]
    },
    {
      "cell_type": "code",
      "execution_count": 23,
      "metadata": {
        "id": "FycYITV4V4WT"
      },
      "outputs": [],
      "source": [
        "std_rias = sampl_dist_sampl_means.std()"
      ]
    },
    {
      "cell_type": "code",
      "source": [
        "mean_pop = 1"
      ],
      "metadata": {
        "id": "kwongjFJaWqL"
      },
      "execution_count": null,
      "outputs": []
    },
    {
      "cell_type": "code",
      "execution_count": 24,
      "metadata": {
        "id": "38Quc90wV4WT",
        "outputId": "92f57abb-2819-4839-cb18-1318502057bf",
        "colab": {
          "base_uri": "https://localhost:8080/",
          "height": 265
        }
      },
      "outputs": [
        {
          "output_type": "display_data",
          "data": {
            "text/plain": [
              "<Figure size 432x288 with 1 Axes>"
            ],
            "image/png": "[encoded data removed]"
          },
          "metadata": {
            "needs_background": "light"
          }
        }
      ],
      "source": [
        "import matplotlib.pyplot as plt\n",
        "sampl_dist_sampl_means = pd.Series(sampl_dist_sampl_means)\n",
        "sampl_dist_sampl_means.hist(bins=30);\n",
        "plt.axvline(mean_pop, color=\"red\", linestyle=\"--\");\n",
        "\n",
        "plt.axvline(mean_pop+2*std_rias, color=\"yellow\", linestyle=\"--\");\n",
        "plt.axvline(mean_pop-2*std_rias, color=\"yellow\", linestyle=\"--\");\n"
      ]
    },
    {
      "cell_type": "markdown",
      "metadata": {
        "id": "XEkLDHBzV4WU"
      },
      "source": [
        "Let's find the z score for our sample. The z score is the number of standard deviations that a number is away from the mean of a normal distribution."
      ]
    },
    {
      "cell_type": "code",
      "execution_count": 25,
      "metadata": {
        "id": "JiJrcoUvV4WU",
        "outputId": "5f9df90e-69a9-4f8c-e849-44305c566b1b",
        "colab": {
          "base_uri": "https://localhost:8080/"
        }
      },
      "outputs": [
        {
          "output_type": "execute_result",
          "data": {
            "text/plain": [
              "0.10480417825412036"
            ]
          },
          "metadata": {},
          "execution_count": 25
        }
      ],
      "source": [
        "sem_squirrels"
      ]
    },
    {
      "cell_type": "code",
      "execution_count": 26,
      "metadata": {
        "id": "wSa7kIUSV4WU",
        "outputId": "4749cd30-b07e-477f-9267-0c153ddefdec",
        "colab": {
          "base_uri": "https://localhost:8080/"
        }
      },
      "outputs": [
        {
          "output_type": "execute_result",
          "data": {
            "text/plain": [
              "0.8919614547194297"
            ]
          },
          "metadata": {},
          "execution_count": 26
        }
      ],
      "source": [
        "squirrels_mean"
      ]
    },
    {
      "cell_type": "code",
      "execution_count": 27,
      "metadata": {
        "id": "fVgs_3ltV4WU",
        "outputId": "2d22d12a-4311-4c05-be5e-cf9a522883d4",
        "colab": {
          "base_uri": "https://localhost:8080/"
        }
      },
      "outputs": [
        {
          "output_type": "execute_result",
          "data": {
            "text/plain": [
              "1.0308610503925477"
            ]
          },
          "metadata": {},
          "execution_count": 27
        }
      ],
      "source": [
        "z_score = (1 - squirrels_mean) / sem_squirrels\n",
        "z_score"
      ]
    },
    {
      "cell_type": "markdown",
      "metadata": {
        "id": "4Wrp_ekFV4WV"
      },
      "source": [
        "Our z score is 1.03. To find the p value for that score, we can use the cumulative distribution function fot the normal distribution. We'll have to double that value, since we want to look at both extremes of the distribution."
      ]
    },
    {
      "cell_type": "code",
      "execution_count": 40,
      "metadata": {
        "scrolled": true,
        "id": "9lBjuPr1V4WV",
        "outputId": "89631263-759a-4f35-8c5f-da24b1453e11",
        "colab": {
          "base_uri": "https://localhost:8080/"
        }
      },
      "outputs": [
        {
          "output_type": "execute_result",
          "data": {
            "text/plain": [
              "0.30260598405571315"
            ]
          },
          "metadata": {},
          "execution_count": 40
        }
      ],
      "source": [
        "# confidence level = alpha = 0.99\n",
        "# reject the null with p < 0.01\n",
        "p_value = stats.norm.cdf(-z_score)*2\n",
        "p_value"
      ]
    },
    {
      "cell_type": "code",
      "source": [
        "stats.norm.sf(abs(z_score))*2"
      ],
      "metadata": {
        "id": "C9MTCuyOEuz-",
        "outputId": "4d7e272d-5226-494d-f8e3-e0fddbed3b1a",
        "colab": {
          "base_uri": "https://localhost:8080/"
        }
      },
      "execution_count": 41,
      "outputs": [
        {
          "output_type": "execute_result",
          "data": {
            "text/plain": [
              "0.30260598405571315"
            ]
          },
          "metadata": {},
          "execution_count": 41
        }
      ]
    },
    {
      "cell_type": "markdown",
      "metadata": {
        "id": "Xu9VxuBlV4WV"
      },
      "source": [
        "We can also look for the p-value in a t distribution with a n-1 degrees of freedom. The difference is neglegible."
      ]
    },
    {
      "cell_type": "code",
      "execution_count": null,
      "metadata": {
        "id": "GiuVBDZCV4WV",
        "outputId": "73a7befc-d6a8-4eb6-b8ce-2a16381ed026",
        "colab": {
          "base_uri": "https://localhost:8080/"
        }
      },
      "outputs": [
        {
          "output_type": "execute_result",
          "data": {
            "text/plain": [
              "0.30575171020498243"
            ]
          },
          "metadata": {},
          "execution_count": 18
        }
      ],
      "source": [
        "stats.t.cdf(-z_score, df = 80-1)*2"
      ]
    },
    {
      "cell_type": "markdown",
      "metadata": {
        "id": "AIRej0WxV4WV"
      },
      "source": [
        "## Using scipy's ttest_1samp\n",
        "\n",
        "Above, we manually performed a z test, which is almost identical to a t test for big samples. Read more about the t-distribution here: https://en.wikipedia.org/wiki/Student%27s_t-distribution"
      ]
    },
    {
      "cell_type": "code",
      "execution_count": null,
      "metadata": {
        "scrolled": true,
        "id": "VwyGweVnV4WW"
      },
      "outputs": [],
      "source": [
        "from scipy.stats import ttest_1samp\n"
      ]
    },
    {
      "cell_type": "code",
      "execution_count": null,
      "metadata": {
        "scrolled": true,
        "id": "DeBwAXkSV4WW",
        "outputId": "0c1f014b-4029-41d5-ef1e-38e9d7eb789b",
        "colab": {
          "base_uri": "https://localhost:8080/"
        }
      },
      "outputs": [
        {
          "output_type": "execute_result",
          "data": {
            "text/plain": [
              "0.30575171020498243"
            ]
          },
          "metadata": {},
          "execution_count": 20
        }
      ],
      "source": [
        "tscore, pvalue = ttest_1samp(a = squirrels, popmean= 1)\n",
        "pvalue"
      ]
    },
    {
      "cell_type": "code",
      "execution_count": null,
      "metadata": {
        "id": "atMimH_uV4WW"
      },
      "outputs": [],
      "source": [
        "# pvalue > 0.05 --> keep the null hypothesis\n",
        "# we can't be sure that squirrels are starving\n",
        "# mean pop squirrels = 1"
      ]
    },
    {
      "cell_type": "markdown",
      "metadata": {
        "id": "XRIdxYAHV4WW"
      },
      "source": [
        "### Your turn:\n",
        "\n",
        "We have the hypothesis that our students are super smart. So we took a random sample of our students and asked them to perform an IQ test.\n",
        "\n",
        "45 WBS CODING SCHOOL students took the IQ test and their result was 130. The average IQ is 100. Test whether or not WBSCS students are different from the regular population."
      ]
    },
    {
      "cell_type": "code",
      "execution_count": null,
      "metadata": {
        "id": "1JZet5lPV4WW"
      },
      "outputs": [],
      "source": [
        "# H0: WBSCS students have the same IQ as the general population = 100. \n",
        "#     The observed difference is due to chance.\n",
        "\n",
        "# H1: WBSCS students have a higher / different IQ than the general population.\n",
        "#                           higher --> 1 tail\n",
        "#                           different --> 2 tails"
      ]
    },
    {
      "cell_type": "code",
      "execution_count": null,
      "metadata": {
        "id": "o8N2PHZCV4WW"
      },
      "outputs": [],
      "source": [
        "wbs_students = [172, 155, 144, 112, 79, 132, 126, 184, 145, 155, 65, \n",
        " 73, 56, 156, 117, 213, 143, 86, 86, 197, 54, 195, 186, \n",
        " 108, 76, 191, 54, 115, 106, 173, 91, 95, 144, 94, \n",
        " 135, 116, 182, 144, 127, 216, 71, 200, 182, 71, 129]"
      ]
    },
    {
      "cell_type": "code",
      "execution_count": null,
      "metadata": {
        "id": "YqU-ivjsV4WX",
        "outputId": "cc969017-475b-418b-b795-1b81384bb049",
        "colab": {
          "base_uri": "https://localhost:8080/"
        }
      },
      "outputs": [
        {
          "output_type": "execute_result",
          "data": {
            "text/plain": [
              "130.0222222222222"
            ]
          },
          "metadata": {},
          "execution_count": 24
        }
      ],
      "source": [
        "np.mean(wbs_students)"
      ]
    },
    {
      "cell_type": "code",
      "execution_count": null,
      "metadata": {
        "id": "9vUet1__V4WX",
        "colab": {
          "base_uri": "https://localhost:8080/"
        },
        "outputId": "6e4404fe-9827-498c-a86f-384416d903f9"
      },
      "outputs": [
        {
          "output_type": "execute_result",
          "data": {
            "text/plain": [
              "9.338735146790408e-05"
            ]
          },
          "metadata": {},
          "execution_count": 25
        }
      ],
      "source": [
        "from scipy.stats import ttest_1samp\n",
        "\n",
        "t_statistic, p_value = ttest_1samp(a = wbs_students, \n",
        "                                   popmean = 100)\n",
        "\n",
        "p_value"
      ]
    },
    {
      "cell_type": "code",
      "execution_count": null,
      "metadata": {
        "id": "EmgoGzgoV4WX"
      },
      "outputs": [],
      "source": [
        "# pvalue < 0.05 --> prove that the null is very unlikely --> we reject the null \n",
        "#. --> WBSCS students are smarter than the average population"
      ]
    }
  ],
  "metadata": {
    "kernelspec": {
      "display_name": "Python 3",
      "language": "python",
      "name": "python3"
    },
    "language_info": {
      "codemirror_mode": {
        "name": "ipython",
        "version": 3
      },
      "file_extension": ".py",
      "mimetype": "text/x-python",
      "name": "python",
      "nbconvert_exporter": "python",
      "pygments_lexer": "ipython3",
      "version": "3.8.5"
    },
    "toc": {
      "base_numbering": 1,
      "nav_menu": {},
      "number_sections": true,
      "sideBar": true,
      "skip_h1_title": false,
      "title_cell": "Table of Contents",
      "title_sidebar": "Contents",
      "toc_cell": false,
      "toc_position": {},
      "toc_section_display": true,
      "toc_window_display": false
    },
    "varInspector": {
      "cols": {
        "lenName": 16,
        "lenType": 16,
        "lenVar": 40
      },
      "kernels_config": {
        "python": {
          "delete_cmd_postfix": "",
          "delete_cmd_prefix": "del ",
          "library": "var_list.py",
          "varRefreshCmd": "print(var_dic_list())"
        },
        "r": {
          "delete_cmd_postfix": ") ",
          "delete_cmd_prefix": "rm(",
          "library": "var_list.r",
          "varRefreshCmd": "cat(var_dic_list()) "
        }
      },
      "types_to_exclude": [
        "module",
        "function",
        "builtin_function_or_method",
        "instance",
        "_Feature"
      ],
      "window_display": false
    },
    "colab": {
      "name": "3.2__1-sample-t-test-code-along-solutions.ipynb",
      "provenance": []
    }
  },
  "nbformat": 4,
  "nbformat_minor": 0
}